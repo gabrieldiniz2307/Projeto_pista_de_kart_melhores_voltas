{
  "nbformat": 4,
  "nbformat_minor": 0,
  "metadata": {
    "colab": {
      "provenance": []
    },
    "kernelspec": {
      "name": "python3",
      "display_name": "Python 3"
    },
    "language_info": {
      "name": "python"
    }
  },
  "cells": [
    {
      "cell_type": "code",
      "source": [
        "import numpy as np\n",
        "import pandas as pd"
      ],
      "metadata": {
        "id": "2V2u99siU1oM"
      },
      "execution_count": 3,
      "outputs": []
    },
    {
      "cell_type": "code",
      "execution_count": 14,
      "metadata": {
        "colab": {
          "base_uri": "https://localhost:8080/"
        },
        "id": "Yx7vB1UbS0Rn",
        "outputId": "22bff3fd-1288-4557-a0b5-ea33754949bd"
      },
      "outputs": [
        {
          "output_type": "stream",
          "name": "stdout",
          "text": [
            "esse é a soma tempo: Felipe Massa    356.058196\n",
            "Diniz           413.878361\n",
            "Alonso          400.873701\n",
            "Jean            433.209129\n",
            "Gustavo         425.263087\n",
            "Mario           414.937666\n",
            "dtype: float64\n",
            "A melhor volta: Volta 1     37.378541\n",
            "Volta 2     33.765632\n",
            "Volta 3     21.430068\n",
            "Volta 4     22.567356\n",
            "Volta 5     22.764169\n",
            "Volta 6     20.232894\n",
            "Volta 7     28.200140\n",
            "Volta 8     30.686762\n",
            "Volta 9     21.714448\n",
            "Volta 10    22.368453\n",
            "dtype: float64\n",
            "Indice da melhor volta: Volta 1     Felipe Massa\n",
            "Volta 2            Diniz\n",
            "Volta 3            Diniz\n",
            "Volta 4            Diniz\n",
            "Volta 5           Alonso\n",
            "Volta 6     Felipe Massa\n",
            "Volta 7     Felipe Massa\n",
            "Volta 8             Jean\n",
            "Volta 9     Felipe Massa\n",
            "Volta 10         Gustavo\n",
            "dtype: object\n",
            "A volta média mais rápida foi: Volta 1     44.441828\n",
            "Volta 2     47.065126\n",
            "Volta 3     40.788911\n",
            "Volta 4     37.983984\n",
            "Volta 5     40.083876\n",
            "Volta 6     39.668263\n",
            "Volta 7     36.418522\n",
            "Volta 8     44.187959\n",
            "Volta 9     40.235182\n",
            "Volta 10    36.496372\n",
            "dtype: float64\n",
            "A soma de todos os tempos: Felipe Massa    356.058196\n",
            "Diniz           413.878361\n",
            "Alonso          400.873701\n",
            "Jean            433.209129\n",
            "Gustavo         425.263087\n",
            "Mario           414.937666\n",
            "dtype: float64\n",
            "O campeão foi o corredor Felipe Massa\n"
          ]
        }
      ],
      "source": [
        "\n",
        "numero_corredores = 6\n",
        "numero_voltas = 10\n",
        "\n",
        "matriz = np.random.uniform(20, 60, size=(numero_corredores, numero_voltas))\n",
        "dados = pd.DataFrame(matriz)\n",
        "\n",
        "nomes_corredores = [\"Felipe Massa\", \"Diniz\", \"Alonso\", \"Jean\", \"Gustavo\", \"Mario\"]\n",
        "\n",
        "dados.columns = ['Volta 1', 'Volta 2', 'Volta 3', 'Volta 4', 'Volta 5',\n",
        "                 'Volta 6', 'Volta 7', 'Volta 8', 'Volta 9', 'Volta 10']\n",
        "\n",
        "\n",
        "dados.index = nomes_corredores\n",
        "\n",
        "\n",
        "min_tempo = dados.min()\n",
        "indice_min = dados.idxmin()\n",
        "media_tempo = dados.mean()\n",
        "soma_tempo = dados.sum(axis=1)\n",
        "campeao = soma_tempo.idxmin()\n",
        "\n",
        "\n",
        "print(f'esse é a soma tempo: {soma_tempo}')\n",
        "print(f'A melhor volta: {min_tempo}')\n",
        "print(f'Indice da melhor volta: {indice_min}')\n",
        "print(f'A volta média mais rápida foi: {media_tempo}')\n",
        "print(f'A soma de todos os tempos: {soma_tempo}')\n",
        "print(f'O campeão foi o corredor {campeao}')"
      ]
    }
  ]
}