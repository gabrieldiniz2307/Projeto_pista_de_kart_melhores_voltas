{
  "nbformat": 4,
  "nbformat_minor": 0,
  "metadata": {
    "colab": {
      "provenance": []
    },
    "kernelspec": {
      "name": "python3",
      "display_name": "Python 3"
    },
    "language_info": {
      "name": "python"
    }
  },
  "cells": [
    {
      "cell_type": "code",
      "source": [
        "import numpy as np"
      ],
      "metadata": {
        "id": "2V2u99siU1oM"
      },
      "execution_count": 3,
      "outputs": []
    },
    {
      "cell_type": "code",
      "execution_count": 30,
      "metadata": {
        "colab": {
          "base_uri": "https://localhost:8080/"
        },
        "id": "Yx7vB1UbS0Rn",
        "outputId": "f034be51-093b-416b-ab8f-9a6605dba431"
      },
      "outputs": [
        {
          "output_type": "stream",
          "name": "stdout",
          "text": [
            "[[29.12491484 50.12004591 48.04161981 47.82192907 39.23084191 50.71502727\n",
            "  28.12483177 44.43714681 39.184461   20.03929249]\n",
            " [56.25057828 33.86150703 36.44113927 25.05016859 41.38678077 56.13902642\n",
            "  44.00388277 24.89829572 44.55022151 58.1059633 ]\n",
            " [25.71376779 25.43518887 44.27244716 46.07674532 59.37000775 31.03705461\n",
            "  47.91482911 56.56887504 50.41835311 55.90497579]\n",
            " [37.835728   51.39748704 28.513292   47.08960938 42.3498226  23.42449754\n",
            "  32.85387461 28.35965614 36.38551008 28.38768694]\n",
            " [33.80592494 22.30323277 37.98760745 45.54030987 47.31594543 39.70530915\n",
            "  39.57798671 25.24145781 46.31178477 34.62325312]\n",
            " [41.68799127 58.35042144 20.43264876 46.9257568  46.79275608 50.1270353\n",
            "  24.52666809 43.56140526 37.794699   23.12498031]]\n",
            "esse é o soma tempo[396.84011088 420.68756365 442.71224455 356.59716432 372.412812\n",
            " 393.32436231]\n",
            "A melhor volta: 20.039292486199724\n",
            "Indice da melhor volta: 9\n",
            "A volta média mais rápida foi: 39.70957096178025\n",
            "A soma de todos os tempos: [396.84011088 420.68756365 442.71224455 356.59716432 372.412812\n",
            " 393.32436231]\n",
            "O campeão foi o corredor 3\n"
          ]
        }
      ],
      "source": [
        "\n",
        "numero_corredores = 6\n",
        "numero_voltas = 10\n",
        "\n",
        "matriz = np.random.uniform(20, 60, size=(numero_corredores, numero_voltas))\n",
        "print(matriz)\n",
        "\n",
        "\n",
        "min_tempo = np.min(matriz)\n",
        "indice_min = np.argmin(matriz)\n",
        "media_tempo = np.mean(matriz)\n",
        "soma_tempo = np.sum(matriz, axis=1)\n",
        "\n",
        "\n",
        "campeao = np.argmin(soma_tempo)\n",
        "\n",
        "\n",
        "print(f'esse é o soma tempo{soma_tempo}')\n",
        "print(f'A melhor volta: {min_tempo}')\n",
        "print(f'Indice da melhor volta: {indice_min}')\n",
        "print(f'A volta média mais rápida foi: {media_tempo}')\n",
        "print(f'A soma de todos os tempos: {soma_tempo}')\n",
        "print(f'O campeão foi o corredor {campeao}')"
      ]
    },
    {
      "cell_type": "code",
      "source": [],
      "metadata": {
        "id": "hjQ2bOgtU7n9"
      },
      "execution_count": null,
      "outputs": []
    }
  ]
}